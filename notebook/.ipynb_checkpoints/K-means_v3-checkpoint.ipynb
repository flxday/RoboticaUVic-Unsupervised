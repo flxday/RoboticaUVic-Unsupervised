{
 "cells": [
  {
   "cell_type": "code",
   "execution_count": 65,
   "metadata": {
    "collapsed": false
   },
   "outputs": [],
   "source": [
    "import os\n",
    "import numpy as np\n"
   ]
  },
  {
   "cell_type": "code",
   "execution_count": 66,
   "metadata": {
    "collapsed": true
   },
   "outputs": [],
   "source": [
    "data = np.loadtxt(\"iris.data\",delimiter = ',',usecols=range(0,4))\n",
    "labels = np.loadtxt(\"iris.data\",dtype = np.str, delimiter = ',',usecols=(4,))"
   ]
  },
  {
   "cell_type": "code",
   "execution_count": 67,
   "metadata": {
    "collapsed": true
   },
   "outputs": [],
   "source": [
    "def kmeans(data, k, c):\n",
    "    centroid = []\n",
    "    centroid = randomize_centroid(data, centroid, k)\n",
    "    old_centroid = [[] for i in range(k)] \n",
    "    iterations = 0\n",
    "\n",
    "    while not (has_converged(centroid, old_centroid, iterations)):\n",
    "        iterations += 1\n",
    "        clusters = [[] for i in range(k)]\n",
    "        clusters = euclidean_dist(data, centroid, clusters) \n",
    "        index = 0\n",
    "        for cluster in clusters:\n",
    "            old_centroid[index] = centroid[index]\n",
    "            centroid[index] = np.mean(cluster, axis=0).tolist()\n",
    "            index += 1\n",
    "\n",
    "    print(\"The means of each cluster are: \" + str(centroid))\n",
    "    return"
   ]
  },
  {
   "cell_type": "code",
   "execution_count": 68,
   "metadata": {
    "collapsed": true
   },
   "outputs": [],
   "source": [
    "def euclidean_dist(data, centroid, clusters):\n",
    "    for instance in data:  \n",
    "        mu_index = min([(i[0], np.linalg.norm(instance-centroid[i[0]]))\n",
    "\tfor i in enumerate(centroid)], key=lambda t:t[1])[0] \n",
    "\ttry:\n",
    "            clusters[mu_index].append(instance)\n",
    "        except KeyError:\n",
    "            clusters[mu_index] = [instance]\n",
    "       \n",
    "    for cluster in clusters:\n",
    "        if not cluster:\n",
    "            cluster.append(data[np.random.randint(0, len(data), size=1)].flatten().tolist())\n",
    "\n",
    "    return clusters"
   ]
  },
  {
   "cell_type": "code",
   "execution_count": 69,
   "metadata": {
    "collapsed": true
   },
   "outputs": [],
   "source": [
    "def randomize_centroid(data, centroid, k):\n",
    "    for cluster in range(0, k):\n",
    "        centroid.append(data[np.random.randint(0, len(data), size=1)].flatten().tolist())\n",
    "    return centroid"
   ]
  },
  {
   "cell_type": "code",
   "execution_count": 70,
   "metadata": {
    "collapsed": true
   },
   "outputs": [],
   "source": [
    "def has_converged(centroid, old_centroid, iterations):\n",
    "    MAX_ITERATIONS = 1000\n",
    "    if iterations > MAX_ITERATIONS:\n",
    "        return True\n",
    "    return old_centroid == centroid"
   ]
  },
  {
   "cell_type": "code",
   "execution_count": 77,
   "metadata": {
    "collapsed": false
   },
   "outputs": [
    {
     "name": "stdout",
     "output_type": "stream",
     "text": [
      "Solución Q1 y Q2\n",
      "\n",
      "The means of each cluster are: [[5.88360655737705, 2.740983606557377, 4.388524590163935, 1.4344262295081966], [6.853846153846153, 3.0769230769230766, 5.715384615384615, 2.053846153846153], [5.005999999999999, 3.4180000000000006, 1.464, 0.2439999999999999]]\n"
     ]
    }
   ],
   "source": [
    "print \"Solución Q1 y Q2\\n\"\n",
    "kmeans(data, 3, 2)"
   ]
  }
 ],
 "metadata": {
  "anaconda-cloud": {},
  "kernelspec": {
   "display_name": "Python [conda root]",
   "language": "python",
   "name": "conda-root-py"
  },
  "language_info": {
   "codemirror_mode": {
    "name": "ipython",
    "version": 2
   },
   "file_extension": ".py",
   "mimetype": "text/x-python",
   "name": "python",
   "nbconvert_exporter": "python",
   "pygments_lexer": "ipython2",
   "version": "2.7.12"
  }
 },
 "nbformat": 4,
 "nbformat_minor": 1
}
