{
 "cells": [
  {
   "cell_type": "code",
   "execution_count": 1,
   "metadata": {
    "collapsed": false
   },
   "outputs": [],
   "source": [
    "import os\n",
    "import numpy as np\n"
   ]
  },
  {
   "cell_type": "code",
   "execution_count": 7,
   "metadata": {
    "collapsed": false
   },
   "outputs": [],
   "source": [
    "def KMeans (data, K, dd):          #K=clusters, dd = dimensions from data\n",
    "    X = data[:,[range(0,dd)]]      #Data Array to classify    \n",
    "    C = data[:K,[range(0,dd)]]     #First elements as centroids\n",
    "    C_last = np.zeros((K, dd))\n",
    "       \n",
    "    \n",
    "    \n",
    "    while (C != C_last).all():\n",
    "        C_last = np.copy(C)  \n",
    "        D = np.zeros((K,X.shape[0]))    #D Array to save distances\n",
    "        Dmin = np.zeros((K,X.shape[0])) #Array to save mininums\n",
    "        \n",
    "        for i in range(0,K):            \n",
    "            for j in range(0,X.shape[0]):\n",
    "                D[i,j] = distance.euclidean(C[i], X[j])     #Save Euclidean distances            \n",
    "        for k in range(0,D.shape[1]):\n",
    "            Dmin[np.argmin(D[:,k]),k]=1                     #Distances matrix\n",
    "        \n",
    "        for i in range(0,K):                                \n",
    "            sum = np.zeros((1, dd))\n",
    "            inc = 0\n",
    "            for j in range(0,Dmin.shape[1]):\n",
    "                if(Dmin[i,j]==1):\n",
    "                    sum += X[j]\n",
    "                    inc+=1\n",
    "            C[i] = sum/inc\n",
    "    return C ,Dmin"
   ]
  },
  {
   "cell_type": "code",
   "execution_count": null,
   "metadata": {
    "collapsed": true
   },
   "outputs": [],
   "source": []
  },
  {
   "cell_type": "code",
   "execution_count": null,
   "metadata": {
    "collapsed": true
   },
   "outputs": [],
   "source": []
  },
  {
   "cell_type": "code",
   "execution_count": null,
   "metadata": {
    "collapsed": true
   },
   "outputs": [],
   "source": []
  }
 ],
 "metadata": {
  "anaconda-cloud": {},
  "kernelspec": {
   "display_name": "Python [default]",
   "language": "python",
   "name": "python2"
  },
  "language_info": {
   "codemirror_mode": {
    "name": "ipython",
    "version": 2
   },
   "file_extension": ".py",
   "mimetype": "text/x-python",
   "name": "python",
   "nbconvert_exporter": "python",
   "pygments_lexer": "ipython2",
   "version": "2.7.12"
  }
 },
 "nbformat": 4,
 "nbformat_minor": 1
}
