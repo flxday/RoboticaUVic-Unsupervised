{
 "metadata": {
  "name": ""
 },
 "nbformat": 3,
 "nbformat_minor": 0,
 "worksheets": [
  {
   "cells": [
    {
     "cell_type": "code",
     "collapsed": false,
     "input": [
      "#K-Means\n",
      "#Q1 Implement the K-Means algorithm. \n",
      "#The K-Means technique is an iterative method to find the best K cluster centers \n",
      "#of a set of data according to the reconstruction error \n",
      "#(i.e. accumulated distances from the real points to their assigned centroids. \n",
      "#Each iteration, the algorithm computes the assignemnt of each point to the closest centroid, \n",
      "#and then recomputes the centroids based on the points that have been assigned to them. "
     ],
     "language": "python",
     "metadata": {},
     "outputs": [],
     "prompt_number": 19
    },
    {
     "cell_type": "code",
     "collapsed": false,
     "input": [
      "#K-medios\n",
      "#Q1 Implementar el algoritmo K-Means. \n",
      "#La t\u00e9cnica de K-Means es un m\u00e9todo iterativo para encontrar los mejores centros de agrupaci\u00f3n de K de un conjunto de datos \n",
      "#de acuerdo con el error de reconstrucci\u00f3n (es decir, \n",
      "#las distancias acumuladas de los puntos reales a sus centroides asignados.\n",
      "#Cada iteraci\u00f3n, el algoritmo calcula la asignaci\u00f3n de cada punto al centr\u00f3ide m\u00e1s cercano, \n",
      "#y luego recompuesta los centroides basados en los puntos que se les han asignado."
     ],
     "language": "python",
     "metadata": {},
     "outputs": [],
     "prompt_number": 20
    },
    {
     "cell_type": "code",
     "collapsed": false,
     "input": [
      "import numpy as np\n",
      "import random\n",
      "#from algorithm.kmean import Kmean\n",
      "from sklearn.cluster import KMeans\n",
      "import matplotlib.pyplot as plt\n",
      "from mpl_toolkits.mplot3d import Axes3D\n",
      "from sklearn import datasets\n",
      "\n"
     ],
     "language": "python",
     "metadata": {},
     "outputs": [],
     "prompt_number": 21
    },
    {
     "cell_type": "code",
     "collapsed": false,
     "input": [
      "np.random.seed(5)\n",
      "\n",
      "centers = [[1, 1], [-1, -1], [1, -1]]\n",
      "iris = datasets.load_iris()\n",
      "X = iris.data\n",
      "y = iris.target\n"
     ],
     "language": "python",
     "metadata": {},
     "outputs": [],
     "prompt_number": 22
    },
    {
     "cell_type": "code",
     "collapsed": false,
     "input": [
      "estimators = {'k_means_iris_3': KMeans(n_clusters=3),\n",
      "              'k_means_iris_8': KMeans(n_clusters=8),\n",
      "              'k_means_iris_bad_init': KMeans(n_clusters=3, n_init=1,\n",
      "                                              init='random')}\n"
     ],
     "language": "python",
     "metadata": {},
     "outputs": [],
     "prompt_number": 23
    },
    {
     "cell_type": "code",
     "collapsed": false,
     "input": [
      "fignum = 1\n",
      "for name, est in estimators.items():\n",
      "    fig = plt.figure(fignum, figsize=(4, 3))\n",
      "    plt.clf()\n",
      "    ax = Axes3D(fig, rect=[0, 0, .95, 1], elev=48, azim=134)\n",
      "\n",
      "    plt.cla()\n",
      "    est.fit(X)\n",
      "    labels = est.labels_\n",
      "\n",
      "    ax.scatter(X[:, 3], X[:, 0], X[:, 2], c=labels.astype(np.float))\n",
      "\n",
      "    ax.w_xaxis.set_ticklabels([])\n",
      "    ax.w_yaxis.set_ticklabels([])\n",
      "    ax.w_zaxis.set_ticklabels([])\n",
      "    ax.set_xlabel('Petal width')\n",
      "    ax.set_ylabel('Sepal length')\n",
      "    ax.set_zlabel('Petal length')\n",
      "    fignum = fignum + 1"
     ],
     "language": "python",
     "metadata": {},
     "outputs": [],
     "prompt_number": 24
    },
    {
     "cell_type": "code",
     "collapsed": false,
     "input": [
      "# Plot the ground truth\n",
      "fig = plt.figure(fignum, figsize=(4, 3))\n",
      "plt.clf()\n",
      "ax = Axes3D(fig, rect=[0, 0, .95, 1], elev=48, azim=134)\n",
      "\n",
      "plt.cla()\n",
      "\n",
      "for name, label in [('Setosa', 0),\n",
      "                    ('Versicolour', 1),\n",
      "                    ('Virginica', 2)]:\n",
      "    ax.text3D(X[y == label, 3].mean(),\n",
      "              X[y == label, 0].mean() + 1.5,\n",
      "              X[y == label, 2].mean(), name,\n",
      "              horizontalalignment='center',\n",
      "              bbox=dict(alpha=.5, edgecolor='w', facecolor='w'))\n",
      "# Reorder the labels to have colors matching the cluster results\n",
      "y = np.choose(y, [1, 2, 0]).astype(np.float)\n",
      "ax.scatter(X[:, 3], X[:, 0], X[:, 2], c=y)\n",
      "\n",
      "ax.w_xaxis.set_ticklabels([])\n",
      "ax.w_yaxis.set_ticklabels([])\n",
      "ax.w_zaxis.set_ticklabels([])\n",
      "ax.set_xlabel('Petal width')\n",
      "ax.set_ylabel('Sepal length')\n",
      "ax.set_zlabel('Petal length')\n",
      "plt.show()\n"
     ],
     "language": "python",
     "metadata": {},
     "outputs": [],
     "prompt_number": 25
    },
    {
     "cell_type": "code",
     "collapsed": false,
     "input": [
      "#Las parcelas muestran en primer lugar lo que un algoritmo K-means producir\u00eda utilizando tres clusters. \n",
      "#A continuaci\u00f3n, se muestra el efecto de una mala inicializaci\u00f3n en el proceso de clasificaci\u00f3n: \n",
      "#Al establecer n_init en s\u00f3lo 1 (el valor predeterminado es 10), \n",
      "#se reduce la cantidad de veces que se ejecutar\u00e1 el algoritmo con diferentes semillas de centroide. \n",
      "#La siguiente trama muestra lo que utilizar\u00edan ocho grupos y, finalmente, la verdad sobre el terreno."
     ],
     "language": "python",
     "metadata": {},
     "outputs": []
    }
   ],
   "metadata": {}
  }
 ]
}