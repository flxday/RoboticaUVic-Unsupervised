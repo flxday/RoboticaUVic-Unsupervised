{
 "cells": [
  {
   "cell_type": "code",
   "execution_count": 1,
   "metadata": {
    "collapsed": false
   },
   "outputs": [],
   "source": [
    "import os\n",
    "import numpy as np\n",
    "\n",
    "data = np.array([map(float, x.split(',')[:-3]) for x in open('iris.data') if x.strip()!=''])\n",
    "\n",
    "def kmeans(data, k, c):\n",
    "    centroid = []\n",
    "    centroid = randomize_centroid(data, centroid, k)\n",
    "    old_centroid = [[] for i in range(k)] \n",
    "    iterations = 0\n",
    "\n",
    "    while not (has_converged(centroid, old_centroid, iterations)):\n",
    "        iterations += 1\n",
    "        clusters = [[] for i in range(k)]\n",
    "        clusters = euclidean_dist(data, centroid, clusters) \n",
    "        index = 0\n",
    "        for cluster in clusters:\n",
    "            old_centroid[index] = centroid[index]\n",
    "            centroid[index] = np.mean(cluster, axis=0).tolist()\n",
    "            index += 1\n",
    "\n",
    "    print(\"The means of each cluster are: \" + str(centroid))\n",
    "    return\n",
    "\n",
    "     \n",
    "def euclidean_dist(data, centroid, clusters):\n",
    "    for instance in data:  \n",
    "        mu_index = min([(i[0], np.linalg.norm(instance-centroid[i[0]]))\n",
    "\tfor i in enumerate(centroid)], key=lambda t:t[1])[0] \n",
    "\ttry:\n",
    "            clusters[mu_index].append(instance)\n",
    "        except KeyError:\n",
    "            clusters[mu_index] = [instance]\n",
    "       \n",
    "    for cluster in clusters:\n",
    "        if not cluster:\n",
    "            cluster.append(data[np.random.randint(0, len(data), size=1)].flatten().tolist())\n",
    "\n",
    "    return clusters\n",
    "\n",
    "\n",
    "def randomize_centroid(data, centroid, k):\n",
    "    for cluster in range(0, k):\n",
    "        centroid.append(data[np.random.randint(0, len(data), size=1)].flatten().tolist())\n",
    "    return centroid\n",
    "\n",
    "  \n",
    "def has_converged(centroid, old_centroid, iterations):\n",
    "    MAX_ITERATIONS = 1000\n",
    "    if iterations > MAX_ITERATIONS:\n",
    "        return True\n",
    "    return old_centroid == centroid\n",
    "\n",
    "\n"
   ]
  },
  {
   "cell_type": "code",
   "execution_count": 2,
   "metadata": {
    "collapsed": false
   },
   "outputs": [
    {
     "name": "stdout",
     "output_type": "stream",
     "text": [
      "Solución Q1 y Q2\n",
      "\n",
      "The means of each cluster are: [[6.823913043478258, 3.0782608695652165], [5.800000000000001, 2.6999999999999997], [5.003921568627451, 3.400000000000001]]\n"
     ]
    }
   ],
   "source": [
    "print \"Solución Q1 y Q2\\n\"\n",
    "kmeans(data, 3, 5)"
   ]
  },
  {
   "cell_type": "code",
   "execution_count": null,
   "metadata": {
    "collapsed": true
   },
   "outputs": [],
   "source": []
  }
 ],
 "metadata": {
  "anaconda-cloud": {},
  "kernelspec": {
   "display_name": "Python [conda root]",
   "language": "python",
   "name": "conda-root-py"
  },
  "language_info": {
   "codemirror_mode": {
    "name": "ipython",
    "version": 2
   },
   "file_extension": ".py",
   "mimetype": "text/x-python",
   "name": "python",
   "nbconvert_exporter": "python",
   "pygments_lexer": "ipython2",
   "version": "2.7.12"
  }
 },
 "nbformat": 4,
 "nbformat_minor": 1
}
